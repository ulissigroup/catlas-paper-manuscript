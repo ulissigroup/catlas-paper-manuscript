{
 "cells": [
  {
   "cell_type": "code",
   "execution_count": 1,
   "id": "quick-spiritual",
   "metadata": {},
   "outputs": [],
   "source": [
    "import pandas as pd\n",
    "from ase import neighborlist\n",
    "from ase.neighborlist import natural_cutoffs\n",
    "import graph_tool as gt\n",
    "from graph_tool import topology\n",
    "import numpy as np\n",
    "import tqdm\n",
    "from scipy.sparse.csgraph import connected_components\n",
    "import dask.dataframe as ddf\n",
    "from dask.distributed import Client, LocalCluster"
   ]
  },
  {
   "cell_type": "code",
   "execution_count": 5,
   "id": "274ca568-e6b6-45e5-8e45-434e627328d4",
   "metadata": {},
   "outputs": [],
   "source": [
    "def get_nuclearity(row):\n",
    "    \"\"\"Function to get the nuclearity for each element in a surface\"\"\"\n",
    "    elements = row.bulk_elements\n",
    "    slab_atoms = row.slab_surface_object.surface_atoms\n",
    "    replicated_slab_atoms = slab_atoms.repeat((2,2,1))\n",
    "    \n",
    "    # Grab connectivity matricies\n",
    "    overall_connectivity_matrix = get_connectivity_matrix(slab_atoms)\n",
    "    overall_connectivity_matrix_rep = get_connectivity_matrix(replicated_slab_atoms)\n",
    "    \n",
    "    # Grab surface atom idxs\n",
    "    surface_indices = [idx for idx, tag in enumerate(slab_atoms.get_tags()) if tag == 1]\n",
    "    surface_indices_rep = [idx for idx, tag in enumerate(replicated_slab_atoms.get_tags()) if tag == 1]\n",
    "    \n",
    "    # Iterate over atoms and assess nuclearity\n",
    "    output_dict = {}\n",
    "    for element in elements:\n",
    "        connected_surface_atoms = [atom.symbol == element and atom.index in surface_indices for atom in slab_atoms]\n",
    "        connected_surface_atoms_rep = [atom.symbol == element and atom.index in surface_indices_rep for atom in replicated_slab_atoms]\n",
    "        \n",
    "        if sum(connected_surface_atoms) == 0:\n",
    "            output_dict[element] = {\"nuclearity\": 0, \"nuclearities\": []}\n",
    "\n",
    "        else:\n",
    "            hist = get_nuclearity_neighbor_counts(connected_surface_atoms, overall_connectivity_matrix)\n",
    "            hist_rep = get_nuclearity_neighbor_counts(connected_surface_atoms_rep, overall_connectivity_matrix_rep)\n",
    "            output_dict[element] = evaluate_infiniteness(hist, hist_rep)\n",
    "    return output_dict\n",
    "\n",
    "def get_nuclearity_neighbor_counts(connected_surface_atoms, connectivity_matrix):\n",
    "    connectivity_matrix = connectivity_matrix[connected_surface_atoms, :]\n",
    "    connectivity_matrix = connectivity_matrix[:, connected_surface_atoms]\n",
    "    graph = gt.Graph(directed=False)\n",
    "    graph.add_vertex(n = connectivity_matrix.shape[0])\n",
    "    graph.add_edge_list(np.transpose(connectivity_matrix.nonzero()))\n",
    "    labels, hist = topology.label_components(graph, directed=False)\n",
    "    return hist\n",
    "            \n",
    "\n",
    "def evaluate_infiniteness(hist, hist_rep):\n",
    "    print(hist)\n",
    "    if max(hist) == max(hist_rep):\n",
    "        return {\"nuclearity\": max(hist), \"nuclearities\": hist}\n",
    "    elif max(hist) == 0.5 * max(hist_rep):\n",
    "        return {\"nuclearity\": 'semi-finite', \"nuclearities\": hist}\n",
    "    elif max(hist) == 0.25 * max(hist_rep):\n",
    "        return {\"nuclearity\": 'infinite', \"nuclearities\": hist}\n",
    "    else:\n",
    "        return {\"nuclearity\": 'somewhat-infinite', \"nuclearities\": hist}\n",
    "    \n",
    "def get_connectivity_matrix(slab_atoms):\n",
    "    # For initial atoms\n",
    "    surface_indices = [idx for idx, tag in enumerate(slab_atoms.get_tags()) if tag == 1]\n",
    "    cutOff = natural_cutoffs(slab_atoms)\n",
    "    neighborList = neighborlist.NeighborList(cutOff, self_interaction=False, bothways=True)\n",
    "    neighborList.update(slab_atoms)\n",
    "    overall_connectivity_matrix = neighborList.get_connectivity_matrix()\n",
    "    return overall_connectivity_matrix\n"
   ]
  },
  {
   "cell_type": "code",
   "execution_count": 6,
   "id": "offshore-preserve",
   "metadata": {},
   "outputs": [],
   "source": [
    "df = pd.read_pickle('../processing/outputs/post_processed_catlas_data_20220701_vals_2.pkl')    "
   ]
  },
  {
   "cell_type": "code",
   "execution_count": 6,
   "id": "5a9a58e6-bbf7-44b6-a542-2897849aa1bd",
   "metadata": {},
   "outputs": [
    {
     "name": "stderr",
     "output_type": "stream",
     "text": [
      "/opt/conda/lib/python3.9/site-packages/distributed/node.py:179: UserWarning: Port 8787 is already in use.\n",
      "Perhaps you already have a cluster running?\n",
      "Hosting the HTTP server on port 41837 instead\n",
      "  warnings.warn(\n"
     ]
    }
   ],
   "source": [
    "cluster = LocalCluster(n_workers=32, threads_per_worker=1)\n",
    "client = Client(cluster)"
   ]
  },
  {
   "cell_type": "code",
   "execution_count": 7,
   "id": "d1d59a2e-d69e-4225-ae6d-37fb02e2dac4",
   "metadata": {},
   "outputs": [],
   "source": [
    "df_dask = ddf.from_pandas(df, npartitions = 128)\n"
   ]
  },
  {
   "cell_type": "code",
   "execution_count": 10,
   "id": "5b9d6386-9289-470c-a603-a0412fdb2805",
   "metadata": {},
   "outputs": [],
   "source": [
    "df_dask_mapped = df_dask.apply(get_nuclearity, axis=1, meta=(\"nuclearities\", object)).compute()\n",
    "df[\"nuclearity\"] = df_dask_mapped\n",
    "df.to_pickle(\"all_info_w_nuclearity.pkl\")"
   ]
  },
  {
   "cell_type": "code",
   "execution_count": null,
   "id": "941b2e78-f9b8-4edb-8ac6-1bd63fa5384a",
   "metadata": {},
   "outputs": [],
   "source": [
    "df"
   ]
  },
  {
   "cell_type": "code",
   "execution_count": 7,
   "id": "b3d9ae81-c312-4a17-b029-ff2b7cd8d19e",
   "metadata": {},
   "outputs": [
    {
     "name": "stdout",
     "output_type": "stream",
     "text": [
      "[1 1 1 1]\n",
      "[8]\n"
     ]
    }
   ],
   "source": [
    "for row_e in df.iterrows():\n",
    "    row = row_e[1]\n",
    "    blep = get_nuclearity(row)\n",
    "    break"
   ]
  },
  {
   "cell_type": "code",
   "execution_count": null,
   "id": "c31f9ebe-22ba-41d6-b9ca-6351b46acd80",
   "metadata": {},
   "outputs": [],
   "source": []
  }
 ],
 "metadata": {
  "kernelspec": {
   "display_name": "Python 3 (ipykernel)",
   "language": "python",
   "name": "python3"
  },
  "language_info": {
   "codemirror_mode": {
    "name": "ipython",
    "version": 3
   },
   "file_extension": ".py",
   "mimetype": "text/x-python",
   "name": "python",
   "nbconvert_exporter": "python",
   "pygments_lexer": "ipython3",
   "version": "3.9.13"
  }
 },
 "nbformat": 4,
 "nbformat_minor": 5
}
